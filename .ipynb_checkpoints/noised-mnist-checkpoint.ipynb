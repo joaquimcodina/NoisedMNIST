{
 "cells": [
  {
   "cell_type": "code",
   "execution_count": 1,
   "metadata": {},
   "outputs": [],
   "source": [
    "import requests\n",
    "from pathlib import Path\n",
    "from typing import Union\n",
    "import matplotlib.pyplot as plt\n",
    "from sklearn.pipeline import Pipeline\n",
    "from sklearn.datasets import fetch_openml\n",
    "from sklearn.preprocessing import StandardScaler\n",
    "from sklearn.ensemble import RandomForestClassifier\n",
    "from sklearn.model_selection import train_test_split\n",
    "from sklearn.base import BaseEstimator, TransformerMixin\n",
    "from sklearn.metrics import confusion_matrix, classification_report\n",
    "\n",
    "import numpy as np\n",
    "\n",
    "from sklearn.linear_model import LogisticRegression"
   ]
  },
  {
   "cell_type": "code",
   "execution_count": null,
   "metadata": {},
   "outputs": [],
   "source": [
    "DATASET_URL = ('https://firebasestorage.googleapis.com/v0/b/hackeps-2019.appspot.com/o/noised-MNIST.npz?alt=media&token=4cee641b-9e31-42c4-b9c8-e771d2eecbad')"
   ]
  },
  {
   "cell_type": "code",
   "execution_count": 3,
   "metadata": {},
   "outputs": [],
   "source": [
    "def download_file(url: str, \n",
    "                  file_path: Union[str, Path]):\n",
    "  r = requests.get(DATASET_URL, allow_redirects=True)\n",
    "  Path(file_path).open('wb').write(r.content)"
   ]
  },
  {
   "cell_type": "code",
   "execution_count": 4,
   "metadata": {},
   "outputs": [],
   "source": [
    "fname = 'noised-MNIST.npz'\n",
    "download_file(DATASET_URL, fname)\n",
    "\n",
    "data = np.load(fname)\n",
    "x, y, x_submission = data.values()\n",
    "\n",
    "model = LogisticRegression(multi_class='auto',solver='saga',max_iter=5000)\n",
    "\n",
    "model.fit(x,y)\n",
    "\n",
    "x_train, x_test, y_train, y_test = train_test_split(x, y, test_size=.33, random_state=42)\n",
    "\n",
    "test_pred = model.predict(x_test)\n",
    "\n",
    "y_pred = model.predict(x_submission)\n",
    "\n",
    "f = open(\"submission.txt\",\"w\")\n",
    "\n",
    "for y in y_pred:\n",
    "  f.write(str(y) + \"\\n\")"
   ]
  },
  {
   "cell_type": "code",
   "execution_count": 6,
   "metadata": {},
   "outputs": [
    {
     "data": {
      "image/png": "[encoded data removed]",
      "text/plain": [
       "<Figure size 720x720 with 10 Axes>"
      ]
     },
     "metadata": {
      "needs_background": "light"
     },
     "output_type": "display_data"
    }
   ],
   "source": [
    "cols = 10\n",
    "rows = 1\n",
    "plt.figure(figsize=(10, 10))\n",
    "for l in range(10): # Digits from 0 to 9\n",
    "  plt.subplot(rows, cols, l + 1)\n",
    "  l_digits = noised_x[y == l]\n",
    "  idx = np.random.randint(0, high=l_digits.shape[0], size=1)\n",
    "  \n",
    "  im = l_digits[idx]\n",
    "  im = im.astype(np.float32) / 255.\n",
    "  im = im.reshape(28, 28)\n",
    "  \n",
    "  plt.title(l)\n",
    "  plt.imshow(im, cmap='gray')\n",
    "  plt.axis('off')"
   ]
  },
  {
   "cell_type": "code",
   "execution_count": 7,
   "metadata": {},
   "outputs": [],
   "source": [
    "x_train, x_test, y_train, y_test = train_test_split(x, y, test_size=.33)"
   ]
  },
  {
   "cell_type": "code",
   "execution_count": 8,
   "metadata": {},
   "outputs": [],
   "source": [
    "np.savez_compressed('noised-MNIST.npz', x=x_train, y=y_train, x_submission=x_test)\n",
    "np.savez_compressed('noised-MNIST-secret.npz', x=x_test, y=y_test)"
   ]
  },
  {
   "cell_type": "code",
   "execution_count": 9,
   "metadata": {},
   "outputs": [
    {
     "data": {
      "text/plain": [
       "RandomForestClassifier(bootstrap=True, class_weight=None, criterion='gini',\n",
       "                       max_depth=10, max_features='auto', max_leaf_nodes=None,\n",
       "                       min_impurity_decrease=0.0, min_impurity_split=None,\n",
       "                       min_samples_leaf=1, min_samples_split=2,\n",
       "                       min_weight_fraction_leaf=0.0, n_estimators=20,\n",
       "                       n_jobs=None, oob_score=False, random_state=None,\n",
       "                       verbose=0, warm_start=False)"
      ]
     },
     "execution_count": 9,
     "metadata": {},
     "output_type": "execute_result"
    }
   ],
   "source": [
    "#@title Training code\n",
    "class ImageScaler(BaseEstimator, TransformerMixin):\n",
    "\n",
    "  def __init__(self, scale_factor):\n",
    "    self.scale_factor = scale_factor\n",
    "\n",
    "  def fit(self, x, y=None):\n",
    "    return self\n",
    "  \n",
    "  def transform(self, x):\n",
    "    x = x.astype(np.float64)\n",
    "    x = x / float(self.scale_factor)\n",
    "    x = np.clip(x, 0, 1.)\n",
    "    return x\n",
    "\n",
    "preprocessing_pipeline = Pipeline([('scale', ImageScaler(255)), \n",
    "                                   ('standardize', StandardScaler())])\n",
    "\n",
    "x_train_prep = preprocessing_pipeline.fit_transform(x_train)\n",
    "rnd_forest = RandomForestClassifier(n_estimators=20, max_depth=10)\n",
    "rnd_forest.fit(x_train_prep, y_train)"
   ]
  },
  {
   "cell_type": "code",
   "execution_count": 10,
   "metadata": {},
   "outputs": [],
   "source": [
    "y_pred = rnd_forest.predict(preprocessing_pipeline.transform(x_test))"
   ]
  },
  {
   "cell_type": "code",
   "execution_count": 11,
   "metadata": {},
   "outputs": [
    {
     "name": "stdout",
     "output_type": "stream",
     "text": [
      "              precision    recall  f1-score   support\n",
      "\n",
      "           0       0.83      0.84      0.83      2222\n",
      "           1       0.78      0.91      0.84      2647\n",
      "           2       0.79      0.71      0.75      2325\n",
      "           3       0.74      0.68      0.71      2318\n",
      "           4       0.75      0.75      0.75      2225\n",
      "           5       0.80      0.54      0.64      2120\n",
      "           6       0.75      0.82      0.79      2220\n",
      "           7       0.78      0.74      0.76      2361\n",
      "           8       0.66      0.66      0.66      2332\n",
      "           9       0.61      0.75      0.68      2330\n",
      "\n",
      "    accuracy                           0.74     23100\n",
      "   macro avg       0.75      0.74      0.74     23100\n",
      "weighted avg       0.75      0.74      0.74     23100\n",
      "\n"
     ]
    },
    {
     "data": {
      "image/png": "[encoded data removed]",
      "text/plain": [
       "<Figure size 432x288 with 2 Axes>"
      ]
     },
     "metadata": {
      "needs_background": "light"
     },
     "output_type": "display_data"
    }
   ],
   "source": [
    "def plot_confusion_matrix(y_true, y_pred,\n",
    "                          cmap=plt.cm.Blues):\n",
    "\n",
    "    title = 'Confusion matrix'\n",
    "    cm = confusion_matrix(y_true, y_pred)\n",
    "    cm = cm.astype('float') / cm.sum(axis=1)[:, np.newaxis]\n",
    "      \n",
    "    fig, ax = plt.subplots()\n",
    "    im = ax.imshow(cm, interpolation='nearest', cmap=cmap)\n",
    "    ax.figure.colorbar(im, ax=ax)\n",
    "    ax.set(xticks=np.arange(cm.shape[1]),\n",
    "           yticks=np.arange(cm.shape[0]),\n",
    "           title=title,\n",
    "           ylabel='True label',\n",
    "           xlabel='Predicted label')\n",
    "\n",
    "\n",
    "print(classification_report(y_test, y_pred))\n",
    "plot_confusion_matrix(y_test, y_pred)\n",
    "plt.show()"
   ]
  }
 ],
 "metadata": {
  "kernelspec": {
   "display_name": "Python 3",
   "language": "python",
   "name": "python3"
  },
  "language_info": {
   "codemirror_mode": {
    "name": "ipython",
    "version": 3
   },
   "file_extension": ".py",
   "mimetype": "text/x-python",
   "name": "python",
   "nbconvert_exporter": "python",
   "pygments_lexer": "ipython3",
   "version": "3.6.8"
  }
 },
 "nbformat": 4,
 "nbformat_minor": 2
}
