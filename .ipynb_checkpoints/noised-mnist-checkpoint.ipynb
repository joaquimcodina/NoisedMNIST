{
 "cells": [
  {
   "cell_type": "code",
   "execution_count": null,
   "metadata": {},
   "outputs": [],
   "source": [
    "import numpy as np\n",
    "\n",
    "from sklearn.pipeline import Pipeline\n",
    "from sklearn.datasets import fetch_openml\n",
    "from sklearn.preprocessing import StandardScaler\n",
    "from sklearn.ensemble import RandomForestClassifier\n",
    "from sklearn.model_selection import train_test_split\n",
    "from sklearn.base import BaseEstimator, TransformerMixin\n",
    "from sklearn.metrics import confusion_matrix, classification_report\n",
    "\n",
    "import matplotlib.pyplot as plt"
   ]
  },
  {
   "cell_type": "code",
   "execution_count": null,
   "metadata": {},
   "outputs": [],
   "source": [
    "IMAGE_SIZE = 28"
   ]
  },
  {
   "cell_type": "code",
   "execution_count": null,
   "metadata": {},
   "outputs": [],
   "source": [
    "x, y = fetch_openml('mnist_784', return_X_y=True)\n",
    "y = y.astype(np.int32)"
   ]
  },
  {
   "cell_type": "code",
   "execution_count": null,
   "metadata": {},
   "outputs": [],
   "source": [
    "#@title Code to add noise to MNIST images\n",
    "class Deformation(object):\n",
    "\n",
    "  def __init__(self, proba):\n",
    "    self.proba = proba\n",
    "\n",
    "  def transform(self, x):\n",
    "    pass\n",
    "\n",
    "  def __call__(self, x):\n",
    "    if np.random.random() > self.proba:\n",
    "      return x\n",
    "    \n",
    "    return self.transform(x)\n",
    "\n",
    "class WhitePatch(Deformation):\n",
    "  def transform(self, x):\n",
    "    patch_size = np.random.randint(5, high=15, size=2)\n",
    "    patch_location = np.random.randint(IMAGE_SIZE/5, IMAGE_SIZE - IMAGE_SIZE/5, size=2)\n",
    "    x1, y1 = patch_location\n",
    "    x2, y2 = np.clip(patch_size + patch_location, 0, IMAGE_SIZE - 1)\n",
    "    x[y1: y2, x1: x2] = 255.\n",
    "    return x\n",
    "\n",
    "class DropPixels(Deformation):\n",
    "  def transform(self, x):\n",
    "    pix_2_drop = np.random.choice([0, 1], p=[.75, .25], size=(28, 28))\n",
    "    pix_2_drop = np.where(pix_2_drop)\n",
    "    x[pix_2_drop] = 255.\n",
    "    return x\n",
    "\n",
    "class DeformationPipeline(object):\n",
    "  def __init__(self, *deformations):\n",
    "    self.deformations = deformations\n",
    "  \n",
    "  def __call__(self, x):\n",
    "    x = x.reshape(IMAGE_SIZE, IMAGE_SIZE)\n",
    "    for d in self.deformations:\n",
    "      x = d(x)\n",
    "    return x.reshape(-1)\n",
    "\n",
    "noise_mnist = DeformationPipeline(WhitePatch(7.), \n",
    "                                  DropPixels(8.))"
   ]
  },
  {
   "cell_type": "code",
   "execution_count": null,
   "metadata": {},
   "outputs": [],
   "source": [
    "# Convert add noise to all data\n",
    "noised_x = np.stack([noise_mnist(o) for o in x])"
   ]
  },
  {
   "cell_type": "code",
   "execution_count": null,
   "metadata": {},
   "outputs": [],
   "source": [
    "cols = 10\n",
    "rows = 1\n",
    "plt.figure(figsize=(10, 10))\n",
    "for l in range(10): # Digits from 0 to 9\n",
    "  plt.subplot(rows, cols, l + 1)\n",
    "  l_digits = noised_x[y == l]\n",
    "  idx = np.random.randint(0, high=l_digits.shape[0], size=1)\n",
    "  \n",
    "  im = l_digits[idx]\n",
    "  im = im.astype(np.float32) / 255.\n",
    "  im = im.reshape(28, 28)\n",
    "  \n",
    "  plt.title(l)\n",
    "  plt.imshow(im, cmap='gray')\n",
    "  plt.axis('off')"
   ]
  },
  {
   "cell_type": "code",
   "execution_count": null,
   "metadata": {},
   "outputs": [],
   "source": [
    "x_train, x_test, y_train, y_test = train_test_split(x, y, test_size=.33)"
   ]
  },
  {
   "cell_type": "code",
   "execution_count": null,
   "metadata": {},
   "outputs": [],
   "source": [
    "np.savez_compressed('noised-MNIST.npz', x=x_train, y=y_train, x_submission=x_test)\n",
    "np.savez_compressed('noised-MNIST-secret.npz', x=x_test, y=y_test)"
   ]
  },
  {
   "cell_type": "code",
   "execution_count": null,
   "metadata": {},
   "outputs": [],
   "source": [
    "#@title Training code\n",
    "class ImageScaler(BaseEstimator, TransformerMixin):\n",
    "\n",
    "  def __init__(self, scale_factor):\n",
    "    self.scale_factor = scale_factor\n",
    "\n",
    "  def fit(self, x, y=None):\n",
    "    return self\n",
    "  \n",
    "  def transform(self, x):\n",
    "    x = x.astype(np.float64)\n",
    "    x = x / float(self.scale_factor)\n",
    "    x = np.clip(x, 0, 1.)\n",
    "    return x\n",
    "\n",
    "preprocessing_pipeline = Pipeline([('scale', ImageScaler(255)), \n",
    "                                   ('standardize', StandardScaler())])\n",
    "\n",
    "x_train_prep = preprocessing_pipeline.fit_transform(x_train)\n",
    "rnd_forest = RandomForestClassifier(n_estimators=20, max_depth=10)\n",
    "rnd_forest.fit(x_train_prep, y_train)"
   ]
  },
  {
   "cell_type": "code",
   "execution_count": null,
   "metadata": {},
   "outputs": [],
   "source": [
    "y_pred = rnd_forest.predict(preprocessing_pipeline.transform(x_test))"
   ]
  }
 ],
 "metadata": {
  "kernelspec": {
   "display_name": "Python 3",
   "language": "python",
   "name": "python3"
  },
  "language_info": {
   "codemirror_mode": {
    "name": "ipython",
    "version": 3
   },
   "file_extension": ".py",
   "mimetype": "text/x-python",
   "name": "python",
   "nbconvert_exporter": "python",
   "pygments_lexer": "ipython3",
   "version": "3.6.8"
  }
 },
 "nbformat": 4,
 "nbformat_minor": 2
}
